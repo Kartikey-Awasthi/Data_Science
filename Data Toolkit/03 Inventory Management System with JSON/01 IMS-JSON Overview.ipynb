{
 "cells": [
  {
   "cell_type": "code",
   "execution_count": 21,
   "id": "62705cdf",
   "metadata": {},
   "outputs": [],
   "source": [
    "record = {1001 : {'Name' : 'Candy'          ,'Price' : 2    ,'Qn' : 400 },\n",
    "          1002 : {'Name' : 'Chocolate Cake' ,'Price' : 300  ,'Qn' : 20  },\n",
    "          1003 : {'Name' : 'Bar-One'        ,'Price' : 20   ,'Qn' : 250 },\n",
    "          1004 : {'Name' : 'Dairy Milk'     ,'Price' : 10   ,'Qn' : 300 },\n",
    "          1005 : {'Name' : 'Oreo Shake'     ,'Price' : 50   ,'Qn' : 50  }}"
   ]
  },
  {
   "cell_type": "code",
   "execution_count": 22,
   "id": "6228b54f",
   "metadata": {},
   "outputs": [
    {
     "data": {
      "text/plain": [
       "{1001: {'Name': 'Candy', 'Price': 2, 'Qn': 400},\n",
       " 1002: {'Name': 'Chocolate Cake', 'Price': 300, 'Qn': 20},\n",
       " 1003: {'Name': 'Bar-One', 'Price': 20, 'Qn': 250},\n",
       " 1004: {'Name': 'Dairy Milk', 'Price': 10, 'Qn': 300},\n",
       " 1005: {'Name': 'Oreo Shake', 'Price': 50, 'Qn': 50}}"
      ]
     },
     "execution_count": 22,
     "metadata": {},
     "output_type": "execute_result"
    }
   ],
   "source": [
    "record\n"
   ]
  },
  {
   "cell_type": "code",
   "execution_count": 31,
   "id": "879c724d",
   "metadata": {},
   "outputs": [
    {
     "name": "stdout",
     "output_type": "stream",
     "text": [
      "Candy\n",
      "2\n",
      "400\n"
     ]
    }
   ],
   "source": [
    "print(record[1001]['Name'])\n",
    "print(record[1001]['Price'])\n",
    "print(record[1001]['Qn'])"
   ]
  },
  {
   "cell_type": "code",
   "execution_count": null,
   "id": "dfae36ee",
   "metadata": {},
   "outputs": [],
   "source": []
  }
 ],
 "metadata": {
  "kernelspec": {
   "display_name": "Python 3 (ipykernel)",
   "language": "python",
   "name": "python3"
  },
  "language_info": {
   "codemirror_mode": {
    "name": "ipython",
    "version": 3
   },
   "file_extension": ".py",
   "mimetype": "text/x-python",
   "name": "python",
   "nbconvert_exporter": "python",
   "pygments_lexer": "ipython3",
   "version": "3.11.4"
  }
 },
 "nbformat": 4,
 "nbformat_minor": 5
}
