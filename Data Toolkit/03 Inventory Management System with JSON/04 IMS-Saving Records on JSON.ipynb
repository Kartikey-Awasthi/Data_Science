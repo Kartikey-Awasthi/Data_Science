{
 "cells": [
  {
   "cell_type": "code",
   "execution_count": null,
   "id": "5ead7d4b",
   "metadata": {},
   "outputs": [
    {
     "name": "stdout",
     "output_type": "stream",
     "text": [
      "----------------MENU----------------\n",
      "\n",
      "1001 : Candy | 2 | 350\n",
      "1002 : Chocolate Cake | 300 | 1\n",
      "1003 : Bar-One | 20 | 250\n",
      "1004 : Dairy Milk | 10 | 200\n",
      "1005 : Oreo Shake | 50 | 50\n",
      "-------------------------------------\n",
      "\n",
      "Enter the Product ID : 1001\n"
     ]
    }
   ],
   "source": [
    "import json\n",
    "\n",
    "fd = open('03 records.json','r')\n",
    "js = fd.read()\n",
    "fd.close()\n",
    "\n",
    "record = json.loads(js)\n",
    "\n",
    "print('----------------MENU----------------\\n')\n",
    "\n",
    "for key in record.keys():\n",
    "    print(key,':', record[key]['Name'], '|', record[key]['Price'], '|' ,record[key]['Qn'] )\n",
    "    \n",
    "print('-------------------------------------\\n')\n",
    "\n",
    "\n",
    "ui_pr = str(input('Enter the Product ID : '))\n",
    "ui_qn = int(input('Enter the Quantity   : '))\n",
    "\n",
    "record[ui_pr]['Qn'] = (record[ui_pr]['Qn'] - ui_qn)\n",
    "\n",
    "print('---------------------------------------')\n",
    "print('                 BILL                \\n')\n",
    "\n",
    "print('Product Name         :',record[ui_pr]['Name'])\n",
    "print('Product Price        :',record[ui_pr][\"Price\"],'Rs.')\n",
    "\n",
    "\n",
    "print('---------------------------------------')\n",
    "\n",
    "print('Total Amount         :',record[ui_pr]['Price'] * ui_qn,'Rs.')\n",
    "print('---------------------------------------')\n",
    "\n",
    "js = json.dumps(record)\n",
    "fd = open('03 records.json','w')\n",
    "fd.write(js)\n",
    "fd.close()"
   ]
  },
  {
   "cell_type": "code",
   "execution_count": null,
   "id": "41e75857",
   "metadata": {},
   "outputs": [],
   "source": []
  }
 ],
 "metadata": {
  "kernelspec": {
   "display_name": "Python 3 (ipykernel)",
   "language": "python",
   "name": "python3"
  },
  "language_info": {
   "codemirror_mode": {
    "name": "ipython",
    "version": 3
   },
   "file_extension": ".py",
   "mimetype": "text/x-python",
   "name": "python",
   "nbconvert_exporter": "python",
   "pygments_lexer": "ipython3",
   "version": "3.11.4"
  }
 },
 "nbformat": 4,
 "nbformat_minor": 5
}
