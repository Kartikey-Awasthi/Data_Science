{
 "cells": [
  {
   "cell_type": "code",
   "execution_count": 3,
   "id": "54c430f0",
   "metadata": {},
   "outputs": [],
   "source": [
    "fd=open('01Inventory.txt','w')\n",
    "\n",
    "fd.close()"
   ]
  },
  {
   "cell_type": "markdown",
   "id": "7417d1d4",
   "metadata": {},
   "source": [
    "# Product Details\n",
    "\n",
    "1,Product ID\n",
    "2,Name of Product\n",
    "3,Price of Product\n",
    "4,Quantity\n"
   ]
  },
  {
   "cell_type": "code",
   "execution_count": 8,
   "id": "596e8e2c",
   "metadata": {},
   "outputs": [],
   "source": [
    "fd=open('01Inventory.txt','r')\n",
    "txt=fd.read()\n",
    "fd.close()"
   ]
  },
  {
   "cell_type": "code",
   "execution_count": 10,
   "id": "0f00c236",
   "metadata": {},
   "outputs": [
    {
     "name": "stdout",
     "output_type": "stream",
     "text": [
      "1,Milky Bar,10,100\n",
      "2,Dairy Milk,20,250\n",
      "3,cake,350,5\n",
      "4,chocolate,1,500\n"
     ]
    }
   ],
   "source": [
    "print(txt)"
   ]
  },
  {
   "cell_type": "code",
   "execution_count": 11,
   "id": "f348fefa",
   "metadata": {},
   "outputs": [
    {
     "data": {
      "text/plain": [
       "'1,Milky Bar,10,100\\n2,Dairy Milk,20,250\\n3,cake,350,5\\n4,chocolate,1,500'"
      ]
     },
     "execution_count": 11,
     "metadata": {},
     "output_type": "execute_result"
    }
   ],
   "source": [
    "txt\n"
   ]
  },
  {
   "cell_type": "code",
   "execution_count": 13,
   "id": "884ebc14",
   "metadata": {},
   "outputs": [
    {
     "data": {
      "text/plain": [
       "['1,Milky Bar,10,100',\n",
       " '2,Dairy Milk,20,250',\n",
       " '3,cake,350,5',\n",
       " '4,chocolate,1,500']"
      ]
     },
     "execution_count": 13,
     "metadata": {},
     "output_type": "execute_result"
    }
   ],
   "source": [
    "txt.split('\\n')"
   ]
  },
  {
   "cell_type": "code",
   "execution_count": 14,
   "id": "807a0f2d",
   "metadata": {},
   "outputs": [
    {
     "data": {
      "text/plain": [
       "4"
      ]
     },
     "execution_count": 14,
     "metadata": {},
     "output_type": "execute_result"
    }
   ],
   "source": [
    "len(txt.split('\\n'))"
   ]
  },
  {
   "cell_type": "code",
   "execution_count": null,
   "id": "b7dcb2de",
   "metadata": {},
   "outputs": [],
   "source": []
  }
 ],
 "metadata": {
  "kernelspec": {
   "display_name": "Python 3 (ipykernel)",
   "language": "python",
   "name": "python3"
  },
  "language_info": {
   "codemirror_mode": {
    "name": "ipython",
    "version": 3
   },
   "file_extension": ".py",
   "mimetype": "text/x-python",
   "name": "python",
   "nbconvert_exporter": "python",
   "pygments_lexer": "ipython3",
   "version": "3.11.4"
  }
 },
 "nbformat": 4,
 "nbformat_minor": 5
}
