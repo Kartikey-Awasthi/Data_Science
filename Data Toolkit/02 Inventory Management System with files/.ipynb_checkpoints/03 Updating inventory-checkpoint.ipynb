{
 "cells": [
  {
   "cell_type": "markdown",
   "id": "c65937ce",
   "metadata": {},
   "source": [
    "##  Product Details:\n",
    "\n",
    "### 1,Product ID\n",
    "### 2,Product Name\n",
    "### 3,Product Price \n",
    "### 4,Product Quantity"
   ]
  },
  {
   "cell_type": "code",
   "execution_count": 35,
   "id": "670866fd",
   "metadata": {},
   "outputs": [
    {
     "name": "stdout",
     "output_type": "stream",
     "text": [
      "Enter Product ID        :4\n",
      "Enter Product Quantity  :100\n",
      "----------------------------------\n",
      "Product Name:    chocolate\n",
      "Product Price:   1\n",
      "Quantity:        100\n",
      "----------------------------------\n",
      "Billing Amount:  100\n",
      "----------------------------------\n"
     ]
    }
   ],
   "source": [
    "fd=open('inven.txt','r')\n",
    "products = fd.read().split('\\n')\n",
    "fd.close()\n",
    "\n",
    "\n",
    "ui_prod_id = input(\"Enter Product ID        :\")\n",
    "ui_prod_qn = input(\"Enter Product Quantity  :\")\n",
    "\n",
    "updated_prod_lst = []\n",
    "\n",
    "for product in products:\n",
    "    \n",
    "    prod_details = product.split(',')\n",
    "    \n",
    "    if(ui_prod_id == prod_details[0]):\n",
    "        print(\"----------------------------------\")\n",
    "        print(\"Product Name:   \",prod_details[1])\n",
    "        print(\"Product Price:  \",prod_details[2])\n",
    "        print(\"Quantity:       \",ui_prod_qn)\n",
    "        print(\"----------------------------------\")\n",
    "        print(\"Billing Amount: \",int(ui_prod_qn)*int(prod_details[2]))\n",
    "        print(\"----------------------------------\")\n",
    "        \n",
    "        prod_details[3] = str(int(prod_details[3]) - int(ui_prod_qn))\n",
    "        \n",
    "    updated_prod_lst.append(prod_details)\n",
    "    \n",
    "lst = []\n",
    "\n",
    "for i in updated_prod_lst:\n",
    "    \n",
    "    prod = i[0]+','+ i[1] + ',' + i[2] + ',' + i[3] + '\\n'\n",
    "    \n",
    "    lst.append(prod)\n",
    "    \n",
    "lst[-1] = lst[-1][:-1]\n",
    "fd = open('inven.txt','w')\n",
    "\n",
    "for i in lst:\n",
    "    fd.write(i)\n",
    "fd.close()\n",
    "        \n",
    "        \n",
    "        \n",
    "    "
   ]
  },
  {
   "cell_type": "code",
   "execution_count": null,
   "id": "2022f00e",
   "metadata": {},
   "outputs": [],
   "source": []
  },
  {
   "cell_type": "code",
   "execution_count": null,
   "id": "00e020ca",
   "metadata": {},
   "outputs": [],
   "source": []
  }
 ],
 "metadata": {
  "kernelspec": {
   "display_name": "Python 3 (ipykernel)",
   "language": "python",
   "name": "python3"
  },
  "language_info": {
   "codemirror_mode": {
    "name": "ipython",
    "version": 3
   },
   "file_extension": ".py",
   "mimetype": "text/x-python",
   "name": "python",
   "nbconvert_exporter": "python",
   "pygments_lexer": "ipython3",
   "version": "3.11.4"
  }
 },
 "nbformat": 4,
 "nbformat_minor": 5
}
