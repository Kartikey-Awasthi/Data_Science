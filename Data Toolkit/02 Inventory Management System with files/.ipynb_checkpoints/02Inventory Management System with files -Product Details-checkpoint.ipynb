{
 "cells": [
  {
   "cell_type": "code",
   "execution_count": 1,
   "id": "3ef16acd",
   "metadata": {},
   "outputs": [],
   "source": [
    "fd=open('02 inven.txt','w')\n",
    "fd.close()"
   ]
  },
  {
   "cell_type": "code",
   "execution_count": 2,
   "id": "af99191e",
   "metadata": {},
   "outputs": [],
   "source": [
    "fd=open('02 inven.txt','r')\n",
    "products=fd.read().split('\\n')\n",
    "fd.close()"
   ]
  },
  {
   "cell_type": "code",
   "execution_count": 20,
   "id": "912ccfdc",
   "metadata": {},
   "outputs": [
    {
     "data": {
      "text/plain": [
       "['1,Milky Bar,10,100',\n",
       " '2,Dairy Milk,20,250',\n",
       " '3,cake,350,5',\n",
       " '4,chocolate,1,500']"
      ]
     },
     "execution_count": 20,
     "metadata": {},
     "output_type": "execute_result"
    }
   ],
   "source": [
    "products"
   ]
  },
  {
   "cell_type": "code",
   "execution_count": 28,
   "id": "24cc30f3",
   "metadata": {},
   "outputs": [
    {
     "name": "stdout",
     "output_type": "stream",
     "text": [
      "Enter the Product ID : 4\n",
      "Enter the Quantity   : 3\n",
      "----------------------------------\n",
      "Product Name:    chocolate\n",
      "Product Price:   1\n",
      "Quantity:        3\n",
      "----------------------------------\n",
      "Billing Amount:  3\n",
      "----------------------------------\n"
     ]
    }
   ],
   "source": [
    "ui_prod_id = input(\"Enter the Product ID : \")\n",
    "ui_prod_qn = input(\"Enter the Quantity   : \")\n",
    "\n",
    "for product in products:\n",
    "    \n",
    "    prod_details = product.split(',')\n",
    "    \n",
    "    if (prod_details[0] == ui_prod_id):\n",
    "        print(\"----------------------------------\")\n",
    "        print(\"Product Name:   \",prod_details[1])\n",
    "        print(\"Product Price:  \",prod_details[2])\n",
    "        print(\"Quantity:       \",ui_prod_qn)\n",
    "        print(\"----------------------------------\")\n",
    "        print(\"Billing Amount: \",int(ui_prod_qn)*int(prod_details[2]))\n",
    "        print(\"----------------------------------\")\n",
    "    "
   ]
  },
  {
   "cell_type": "code",
   "execution_count": 15,
   "id": "32565ba9",
   "metadata": {},
   "outputs": [
    {
     "name": "stdout",
     "output_type": "stream",
     "text": [
      "['1,Milky Bar,10,100', '2,Dairy Milk,20,250', '3,cake,350,5', '4,chocolate,1,500']\n"
     ]
    }
   ],
   "source": [
    "print(products)"
   ]
  },
  {
   "cell_type": "code",
   "execution_count": null,
   "id": "a6a2dba8",
   "metadata": {},
   "outputs": [],
   "source": []
  }
 ],
 "metadata": {
  "kernelspec": {
   "display_name": "Python 3 (ipykernel)",
   "language": "python",
   "name": "python3"
  },
  "language_info": {
   "codemirror_mode": {
    "name": "ipython",
    "version": 3
   },
   "file_extension": ".py",
   "mimetype": "text/x-python",
   "name": "python",
   "nbconvert_exporter": "python",
   "pygments_lexer": "ipython3",
   "version": "3.11.4"
  }
 },
 "nbformat": 4,
 "nbformat_minor": 5
}
