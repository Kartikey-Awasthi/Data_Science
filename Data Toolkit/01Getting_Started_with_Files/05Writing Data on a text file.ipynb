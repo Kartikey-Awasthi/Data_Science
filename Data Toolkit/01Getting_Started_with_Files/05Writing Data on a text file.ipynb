{
 "cells": [
  {
   "cell_type": "code",
   "execution_count": 13,
   "id": "4a590d8e",
   "metadata": {},
   "outputs": [],
   "source": [
    "fd=open('05writingdata.txt','w')\n",
    "fd.write('Hello there,My name is kartikey Awasthi ')\n",
    "fd.close()"
   ]
  },
  {
   "cell_type": "code",
   "execution_count": 20,
   "id": "dd8fa73c",
   "metadata": {},
   "outputs": [],
   "source": [
    "gd=open('05appenddata.txt','a')\n",
    "gd.write('how are you.fine')\n",
    "gd.close()"
   ]
  },
  {
   "cell_type": "code",
   "execution_count": null,
   "id": "6be5ffac",
   "metadata": {},
   "outputs": [],
   "source": []
  }
 ],
 "metadata": {
  "kernelspec": {
   "display_name": "Python 3 (ipykernel)",
   "language": "python",
   "name": "python3"
  },
  "language_info": {
   "codemirror_mode": {
    "name": "ipython",
    "version": 3
   },
   "file_extension": ".py",
   "mimetype": "text/x-python",
   "name": "python",
   "nbconvert_exporter": "python",
   "pygments_lexer": "ipython3",
   "version": "3.11.4"
  }
 },
 "nbformat": 4,
 "nbformat_minor": 5
}
