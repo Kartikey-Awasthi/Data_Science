{
 "cells": [
  {
   "cell_type": "code",
   "execution_count": 1,
   "id": "25486074",
   "metadata": {},
   "outputs": [
    {
     "name": "stdout",
     "output_type": "stream",
     "text": [
      "Coronavirus disease 2019 (COVID-19) is a contagious disease caused by the virus SARS-CoV-2. The first known case was identified in Wuhan, China, in December 2019.[6] The disease quickly spread worldwide, resulting in the COVID-19 pandemic.\n",
      "\n",
      "The symptoms of COVIDâ€‘19 are variable but often include fever,[7] cough, headache,[8] fatigue, breathing difficulties, loss of smell, and loss of taste.[9][10][11] Symptoms may begin one to fourteen days after exposure to the virus. At least a third of people who are infected do not develop noticeable symptoms.[12] Of those who develop symptoms noticeable enough to be classified as patients, most (81%) develop mild to moderate symptoms (up to mild pneumonia), while 14% develop severe symptoms (dyspnea, hypoxia, or more than 50% lung involvement on imaging), and 5% develop critical symptoms (respiratory failure, shock, or multiorgan dysfunction).[13] Older people are at a higher risk of developing severe symptoms. Some people continue to experience a range of effects (long COVID) for years after infection, and damage to organs has been observed.[14] Multi-year studies are underway to further investigate the long-term effects of the disease.[15]\n",
      "\n",
      "COVIDâ€‘19 transmits when infectious particles are breathed in or come into contact with the eyes, nose, or mouth. The risk is highest when people are in close proximity, but small airborne particles containing the virus can remain suspended in the air and travel over longer distances, particularly indoors. Transmission can also occur when people touch their eyes, nose or mouth after touching surfaces or objects that have been contaminated by the virus. People remain contagious for up to 20 days and can spread the virus even if they do not develop symptoms.[16]\n",
      "\n",
      "Testing methods for COVID-19 to detect the virus's nucleic acid include real-time reverse transcription polymerase chain reaction (RTâ€‘PCR),[17][18] transcription-mediated amplification,[17][18][19] and reverse transcription loop-mediated isothermal amplification (RTâ€‘LAMP)[17][18] from a nasopharyngeal swab.[20]\n",
      "\n",
      "Several COVID-19 vaccines have been approved and distributed in various countries, which have initiated mass vaccination campaigns. Other preventive measures include physical or social distancing, quarantining, ventilation of indoor spaces, use of face masks or coverings in public, covering coughs and sneezes, hand washing, and keeping unwashed hands away from the face. While work is underway to develop drugs that inhibit the virus, the primary treatment is symptomatic. Management involves the treatment of symptoms through supportive care, isolation, and experimental measures.\n"
     ]
    }
   ],
   "source": [
    "fd=open('02data.txt','r')\n",
    "print(fd.read())\n",
    "fd.close()"
   ]
  },
  {
   "cell_type": "code",
   "execution_count": 2,
   "id": "ce18f4c6",
   "metadata": {},
   "outputs": [],
   "source": [
    "fd=open('02data.txt','r')\n",
    "txt=fd.read()\n",
    "fd.close()"
   ]
  },
  {
   "cell_type": "code",
   "execution_count": 4,
   "id": "6d5b0b8b",
   "metadata": {},
   "outputs": [
    {
     "name": "stdout",
     "output_type": "stream",
     "text": [
      "Coronavirus disease 2019 (COVID-19) is a contagious disease caused by the virus SARS-CoV-2. The first known case was identified in Wuhan, China, in December 2019.[6] The disease quickly spread worldwide, resulting in the COVID-19 pandemic.\n",
      "\n",
      "The symptoms of COVIDâ€‘19 are variable but often include fever,[7] cough, headache,[8] fatigue, breathing difficulties, loss of smell, and loss of taste.[9][10][11] Symptoms may begin one to fourteen days after exposure to the virus. At least a third of people who are infected do not develop noticeable symptoms.[12] Of those who develop symptoms noticeable enough to be classified as patients, most (81%) develop mild to moderate symptoms (up to mild pneumonia), while 14% develop severe symptoms (dyspnea, hypoxia, or more than 50% lung involvement on imaging), and 5% develop critical symptoms (respiratory failure, shock, or multiorgan dysfunction).[13] Older people are at a higher risk of developing severe symptoms. Some people continue to experience a range of effects (long COVID) for years after infection, and damage to organs has been observed.[14] Multi-year studies are underway to further investigate the long-term effects of the disease.[15]\n",
      "\n",
      "COVIDâ€‘19 transmits when infectious particles are breathed in or come into contact with the eyes, nose, or mouth. The risk is highest when people are in close proximity, but small airborne particles containing the virus can remain suspended in the air and travel over longer distances, particularly indoors. Transmission can also occur when people touch their eyes, nose or mouth after touching surfaces or objects that have been contaminated by the virus. People remain contagious for up to 20 days and can spread the virus even if they do not develop symptoms.[16]\n",
      "\n",
      "Testing methods for COVID-19 to detect the virus's nucleic acid include real-time reverse transcription polymerase chain reaction (RTâ€‘PCR),[17][18] transcription-mediated amplification,[17][18][19] and reverse transcription loop-mediated isothermal amplification (RTâ€‘LAMP)[17][18] from a nasopharyngeal swab.[20]\n",
      "\n",
      "Several COVID-19 vaccines have been approved and distributed in various countries, which have initiated mass vaccination campaigns. Other preventive measures include physical or social distancing, quarantining, ventilation of indoor spaces, use of face masks or coverings in public, covering coughs and sneezes, hand washing, and keeping unwashed hands away from the face. While work is underway to develop drugs that inhibit the virus, the primary treatment is symptomatic. Management involves the treatment of symptoms through supportive care, isolation, and experimental measures.\n"
     ]
    }
   ],
   "source": [
    "print(txt)"
   ]
  },
  {
   "cell_type": "code",
   "execution_count": 27,
   "id": "ff8dfd7e",
   "metadata": {},
   "outputs": [],
   "source": [
    "for i in range(6,21):\n",
    "    pattern=(\"[\" +str(i)+ \"]\")\n",
    "    txt=txt.replace(pattern,'')"
   ]
  },
  {
   "cell_type": "code",
   "execution_count": 28,
   "id": "a9eabed4",
   "metadata": {},
   "outputs": [
    {
     "name": "stdout",
     "output_type": "stream",
     "text": [
      "Coronavirus disease 2019 (COVID-19) is a contagious disease caused by the virus SARS-CoV-2. The first known case was identified in Wuhan, China, in December 2019. The disease quickly spread worldwide, resulting in the COVID-19 pandemic.\n",
      "\n",
      "The symptoms of COVIDâ€‘19 are variable but often include fever, cough, headache, fatigue, breathing difficulties, loss of smell, and loss of taste. Symptoms may begin one to fourteen days after exposure to the virus. At least a third of people who are infected do not develop noticeable symptoms. Of those who develop symptoms noticeable enough to be classified as patients, most (81%) develop mild to moderate symptoms (up to mild pneumonia), while 14% develop severe symptoms (dyspnea, hypoxia, or more than 50% lung involvement on imaging), and 5% develop critical symptoms (respiratory failure, shock, or multiorgan dysfunction). Older people are at a higher risk of developing severe symptoms. Some people continue to experience a range of effects (long COVID) for years after infection, and damage to organs has been observed. Multi-year studies are underway to further investigate the long-term effects of the disease.\n",
      "\n",
      "COVIDâ€‘19 transmits when infectious particles are breathed in or come into contact with the eyes, nose, or mouth. The risk is highest when people are in close proximity, but small airborne particles containing the virus can remain suspended in the air and travel over longer distances, particularly indoors. Transmission can also occur when people touch their eyes, nose or mouth after touching surfaces or objects that have been contaminated by the virus. People remain contagious for up to 20 days and can spread the virus even if they do not develop symptoms.\n",
      "\n",
      "Testing methods for COVID-19 to detect the virus's nucleic acid include real-time reverse transcription polymerase chain reaction (RTâ€‘PCR), transcription-mediated amplification, and reverse transcription loop-mediated isothermal amplification (RTâ€‘LAMP) from a nasopharyngeal swab.\n",
      "\n",
      "Several COVID-19 vaccines have been approved and distributed in various countries, which have initiated mass vaccination campaigns. Other preventive measures include physical or social distancing, quarantining, ventilation of indoor spaces, use of face masks or coverings in public, covering coughs and sneezes, hand washing, and keeping unwashed hands away from the face. While work is underway to develop drugs that inhibit the virus, the primary treatment is symptomatic. Management involves the treatment of symptoms through supportive care, isolation, and experimental measures.\n"
     ]
    }
   ],
   "source": [
    "print(txt)"
   ]
  },
  {
   "cell_type": "code",
   "execution_count": 43,
   "id": "47295b8d",
   "metadata": {},
   "outputs": [],
   "source": [
    "for i in \"!@#$%^)(%,.\" :\n",
    "    txt=txt.replace(i,\"\")"
   ]
  },
  {
   "cell_type": "code",
   "execution_count": 44,
   "id": "b59f4c78",
   "metadata": {},
   "outputs": [
    {
     "name": "stdout",
     "output_type": "stream",
     "text": [
      "Coronavirus disease 2019  COVID-19  is a contagious disease caused by the virus SARS-CoV-2  The first known case was identified in Wuhan  China  in December 2019  The disease quickly spread worldwide  resulting in the COVID-19 pandemic \n",
      "\n",
      "The symptoms of COVIDâ€‘19 are variable but often include fever  cough  headache  fatigue  breathing difficulties  loss of smell  and loss of taste  Symptoms may begin one to fourteen days after exposure to the virus  At least a third of people who are infected do not develop noticeable symptoms  Of those who develop symptoms noticeable enough to be classified as patients  most  81   develop mild to moderate symptoms  up to mild pneumonia   while 14  develop severe symptoms  dyspnea  hypoxia  or more than 50  lung involvement on imaging   and 5  develop critical symptoms  respiratory failure  shock  or multiorgan dysfunction   Older people are at a higher risk of developing severe symptoms  Some people continue to experience a range of effects  long COVID  for years after infection  and damage to organs has been observed  Multi-year studies are underway to further investigate the long-term effects of the disease \n",
      "\n",
      "COVIDâ€‘19 transmits when infectious particles are breathed in or come into contact with the eyes  nose  or mouth  The risk is highest when people are in close proximity  but small airborne particles containing the virus can remain suspended in the air and travel over longer distances  particularly indoors  Transmission can also occur when people touch their eyes  nose or mouth after touching surfaces or objects that have been contaminated by the virus  People remain contagious for up to 20 days and can spread the virus even if they do not develop symptoms \n",
      "\n",
      "Testing methods for COVID-19 to detect the virus's nucleic acid include real-time reverse transcription polymerase chain reaction  RTâ€‘PCR   transcription-mediated amplification  and reverse transcription loop-mediated isothermal amplification  RTâ€‘LAMP  from a nasopharyngeal swab \n",
      "\n",
      "Several COVID-19 vaccines have been approved and distributed in various countries  which have initiated mass vaccination campaigns  Other preventive measures include physical or social distancing  quarantining  ventilation of indoor spaces  use of face masks or coverings in public  covering coughs and sneezes  hand washing  and keeping unwashed hands away from the face  While work is underway to develop drugs that inhibit the virus  the primary treatment is symptomatic  Management involves the treatment of symptoms through supportive care  isolation  and experimental measures \n"
     ]
    }
   ],
   "source": [
    "print(txt)"
   ]
  },
  {
   "cell_type": "code",
   "execution_count": null,
   "id": "fcc4f501",
   "metadata": {},
   "outputs": [],
   "source": []
  }
 ],
 "metadata": {
  "kernelspec": {
   "display_name": "Python 3 (ipykernel)",
   "language": "python",
   "name": "python3"
  },
  "language_info": {
   "codemirror_mode": {
    "name": "ipython",
    "version": 3
   },
   "file_extension": ".py",
   "mimetype": "text/x-python",
   "name": "python",
   "nbconvert_exporter": "python",
   "pygments_lexer": "ipython3",
   "version": "3.11.4"
  }
 },
 "nbformat": 4,
 "nbformat_minor": 5
}
